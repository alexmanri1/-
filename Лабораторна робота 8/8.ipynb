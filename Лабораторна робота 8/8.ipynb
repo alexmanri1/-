{
 "cells": [
  {
   "cell_type": "code",
   "execution_count": null,
   "id": "79181916",
   "metadata": {},
   "outputs": [],
   "source": [
    "import numpy as np\n",
    "from math import factorial\n",
    "import matplotlib.pyplot as plt\n",
    "\n",
    "\n",
    "x=[3.50, 3.55, 3.60 ,3.65, 3.70, 3.75, 3.80, 3.85, 3.90, 3.95, 4.00]\n",
    "y=[33.1154, 34.8133, 36.5982, 38.4747, 40.4473, 42.5211, 44.7012, 46.9931, 49.4024, 51.9354, 54.5982]\n",
    "h = x[1] - x[0]\n",
    "x1=3.522\n",
    "x2=3.905\n",
    "q=(x1 - x[0])/h #Для 1 інтерп. ф-ли Нтютона\n",
    "q1 = (x2-x[-1])/h #Для 2 інтерп. ф-ли Нтютона\n",
    "def n(y,j): #обчислення кінцевих різниць\n",
    "    mas=[]\n",
    "    for i in range(len(y)):\n",
    "        mas.append(y[i] - y[i-1])\n",
    "    mas.pop(0)  \n",
    "    if j == 1:\n",
    "        return mas\n",
    "    else:\n",
    "        j-=1\n",
    "        return n(mas, j)\n",
    " #Перша інтерполяційна формула Ньютона   \n",
    "s_1 = y[0]+q*n(y,1)[0]+q*(q-1)*n(y,2)[0]/factorial(2)\n",
    "s_2 = q*(q-1)*(q-2)*n(y,3)[0]/factorial(3)\n",
    "s_3 = q*(q-1)*(q-2)*(q-3)*n(y,4)[0]/factorial(4)\n",
    "s_4 = q*(q-1)*(q-2)*(q-3)*(q-4)*n(y,5)[0]/factorial(5)\n",
    "n_1 = s_1 + s_2 + s_3 + s_4\n",
    "\n",
    "\n",
    "\n"
   ]
  },
  {
   "cell_type": "code",
   "execution_count": null,
   "id": "1f2e422a",
   "metadata": {},
   "outputs": [],
   "source": [
    "#Друга інтерполяційна формула Ньютона\n",
    "t1 = y[11] + q1*n(y,1)[1]/factorial(2)\n",
    "t2 = q1*(q1+1)*(q1+2)*n(y,3)[2]/factorial(3)\n",
    "t3 = q1*(q1+1)*(q1+2)*(q1+3)*n(y,4)[3]/factorial(4)\n",
    "t4 = q1*(q1+1)*(q1+2)*(q1+3)*(q1+4)*n(y,5)[4]/factorial(5)\n",
    "t5 = q1*(q1+1)*(q1+2)*(q1+3)*(q1+4)*(q1+5)*n(y,6)[5]/factorial(6)\n",
    "t6 = q1*(q1+1)*(q1+2)*(q1+3)*(q1+4)*(q1+5)*(q1+6)*n(y,7)[6]/factorial(7)\n",
    "t7 = q1*(q1+1)*(q1+2)*(q1+3)*(q1+4)*(q1+5)*(q1+6)*(q1+7)*n(y,8)[7]/factorial(8)\n",
    "t8 = q1*(q1+1)*(q1+2)*(q1+3)*(q1+4)*(q1+5)*(q1+6)*(q1+7)*(q1+8)*n(y,9)[8]/factorial(9)\n",
    "t9 = q1*(q1+1)*(q1+2)*(q1+3)*(q1+4)*(q1+5)*(q1+6)*(q1+7)*(q1+8)*(q1+9)*n(y,10)[9]/factorial(10)\n",
    "t10 = q1*(q1+1)*(q1+2)*(q1+3)*(q1+4)*(q1+5)*(q1+6)*(q1+7)*(q1+8)*(q1+9)*(q1+10)*n(y,11)[10]/factorial(11)\n",
    "n_2 =  t1+t2+t3+t4+t5+t6+t7+t8+t9+t10\n"
   ]
  },
  {
   "cell_type": "code",
   "execution_count": null,
   "id": "08e57078",
   "metadata": {},
   "outputs": [],
   "source": [
    "x_1=np.linspace(np.min(x), np.max(x))\n",
    "y_1=np.linspace(np.min(y), np.max(y))\n",
    "plt.plot(x,y, 'ro', x_1, y_1)\n",
    "plt.title('Graph of the interpolation function')\n",
    "plt.xlabel('x')\n",
    "plt.ylabel('y')\n",
    "plt.grid()\n",
    "plt.show()"
   ]
  }
 ],
 "metadata": {
  "kernelspec": {
   "display_name": "Python 3.9.13 64-bit",
   "language": "python",
   "name": "python3"
  },
  "language_info": {
   "codemirror_mode": {
    "name": "ipython",
    "version": 3
   },
   "file_extension": ".py",
   "mimetype": "text/x-python",
   "name": "python",
   "nbconvert_exporter": "python",
   "pygments_lexer": "ipython3",
   "version": "3.9.13"
  },
  "vscode": {
   "interpreter": {
    "hash": "81794d4967e6c3204c66dcd87b604927b115b27c00565d3d43f05ba2f3a2cb0d"
   }
  }
 },
 "nbformat": 4,
 "nbformat_minor": 5
}
